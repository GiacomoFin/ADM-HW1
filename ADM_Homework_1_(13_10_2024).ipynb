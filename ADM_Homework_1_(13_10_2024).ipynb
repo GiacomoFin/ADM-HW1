{
  "cells": [
    {
      "cell_type": "markdown",
      "metadata": {
        "id": "view-in-github",
        "colab_type": "text"
      },
      "source": [
        "<a href=\"https://colab.research.google.com/github/GiacomoFin/ADM-HW1/blob/main/ADM_Homework_1_(13_10_2024).ipynb\" target=\"_parent\"><img src=\"https://colab.research.google.com/assets/colab-badge.svg\" alt=\"Open In Colab\"/></a>"
      ]
    },
    {
      "cell_type": "markdown",
      "source": [
        "# **PROBLEM 1**"
      ],
      "metadata": {
        "id": "WhLSvsTVd_Iy"
      }
    },
    {
      "cell_type": "markdown",
      "source": [
        "# Introduction (1)"
      ],
      "metadata": {
        "id": "BszBBGaJWvvk"
      }
    },
    {
      "cell_type": "code",
      "source": [
        "### PROBLEM 1 - Intro, Say \"Hello World!\" (1)\n",
        "\n",
        "print(\"Hello, World!\")"
      ],
      "metadata": {
        "id": "h2qz-HqTdzrl"
      },
      "execution_count": null,
      "outputs": []
    },
    {
      "cell_type": "code",
      "execution_count": null,
      "metadata": {
        "id": "ipOnB-DV_0CQ"
      },
      "outputs": [],
      "source": [
        "### PROBLEM 1 - Intro, Python if-else (2)\n",
        "\n",
        "#!/bin/python3\n",
        "\n",
        "if __name__ == '__main__':\n",
        "    n = int(input().strip())\n",
        "if n >= 1 and n <= 100:\n",
        "    if n % 2 != 0:\n",
        "        print(\"Weird\")\n",
        "    elif n % 2 == 0 and n >= 2 and n <=5:\n",
        "        print(\"Not Weird\")\n",
        "    elif n % 2 == 0 and n >= 6 and n <= 20:\n",
        "        print(\"Weird\")\n",
        "    elif n % 2 == 0 and n > 20:\n",
        "        print(\"Not Weird\")"
      ]
    },
    {
      "cell_type": "code",
      "execution_count": null,
      "metadata": {
        "id": "H1j-QpTjv_TT"
      },
      "outputs": [],
      "source": [
        "### PROBLEM 1 - Intro, Arithmetic Operators (3)\n",
        "\n",
        "a = 3\n",
        "b = 5\n",
        "print(a + b)\n",
        "print(a - b)\n",
        "print(a * b)\n",
        "\n"
      ]
    },
    {
      "cell_type": "code",
      "execution_count": null,
      "metadata": {
        "id": "UqhB-f-wmohg"
      },
      "outputs": [],
      "source": [
        "### PROBLEM 1 - Intro, Python Division (4)\n",
        "\n",
        "a = 4\n",
        "b = 5\n",
        "print(a/b)\n",
        "print(a//b)\n",
        "\n"
      ]
    },
    {
      "cell_type": "code",
      "execution_count": null,
      "metadata": {
        "id": "IuMq7_1MPRtV"
      },
      "outputs": [],
      "source": [
        "### PROBLEM 1 - Intro, Loops (5)\n",
        "\n",
        "if __name__ == '__main__':\n",
        "    n = int(input(\"Enter a number: \"))\n",
        "for i in range(n):\n",
        "    print(i ** 2)"
      ]
    },
    {
      "cell_type": "code",
      "source": [
        "### PROBLEM 1 - Intro, Write a function (6)\n",
        "\n",
        "def is_leap(year):\n",
        "\n",
        "    if year % 4 == 0:\n",
        "        if year % 100 == 0:\n",
        "            if year % 400 == 0:\n",
        "                return True\n",
        "            else:\n",
        "                return False\n",
        "        else:\n",
        "            return True\n",
        "    else:\n",
        "        return False\n",
        "\n",
        "year = int(input())\n",
        "print(is_leap(year))"
      ],
      "metadata": {
        "id": "-68-uphu_jPZ"
      },
      "execution_count": null,
      "outputs": []
    },
    {
      "cell_type": "code",
      "source": [
        "### PROBLEM 1 - Intro, Print a function (7)\n",
        "\n",
        "if __name__ == '__main__':\n",
        "    n = int(input())\n",
        "\n",
        "    for i in range(1, n+1):\n",
        "        print(i, end=\"\")"
      ],
      "metadata": {
        "id": "xpMef9ca_rtS"
      },
      "execution_count": null,
      "outputs": []
    },
    {
      "cell_type": "markdown",
      "source": [
        "# Basic Data Types (2)"
      ],
      "metadata": {
        "id": "94hWoVo-WmlD"
      }
    },
    {
      "cell_type": "code",
      "source": [
        "### PROBLEM 1 - Basic Data Types, List Comprehensions (1)\n",
        "\n",
        "# Input for x, y, z, and n\n",
        "x = int(input())\n",
        "y = int(input())\n",
        "z = int(input())\n",
        "n = int(input())\n",
        "\n",
        "coordinates = [[i, j, k] for i in range(x + 1) for j in range(y + 1) for k in range(z + 1) if i + j + k != n]\n",
        "\n",
        "print(coordinates)"
      ],
      "metadata": {
        "id": "BLi7dYF-Ahhc"
      },
      "execution_count": null,
      "outputs": []
    },
    {
      "cell_type": "code",
      "source": [
        "### PROBLEM 1 - Basic Data Types, Find the Runner-Up Score! (2)\n",
        "\n",
        "if __name__ == '__main__':\n",
        "    n = int(input())\n",
        "    arr = map(int, input().split())\n",
        "\n",
        "    unique_scores = sorted(set(arr), reverse=True)\n",
        "\n",
        "    runner_up_score = unique_scores[1]\n",
        "\n",
        "    print(runner_up_score)"
      ],
      "metadata": {
        "id": "pAQkTrm1HEl7"
      },
      "execution_count": null,
      "outputs": []
    },
    {
      "cell_type": "code",
      "source": [
        "### PROBELM 1 - Basic Data Types, Nested Lists (3)\n",
        "\n",
        "if __name__ == '__main__':\n",
        "  names = []\n",
        "  for i in range(int(input())):\n",
        "        name = input()\n",
        "        score = float(input())\n",
        "        names.append([name, score])\n",
        "  AllScores = sorted(set([score for name, score in names]))\n",
        "\n",
        "  SecondLowestScores = AllScores[1]\n",
        "\n",
        "  SecondLowestNames = ([name for name, score in names if score == SecondLowestScores])\n",
        "\n",
        "  SecondLowestNames.sort()\n",
        "  for SingleName in SecondLowestNames:\n",
        "        print(SingleName)"
      ],
      "metadata": {
        "id": "jZeqFP-4YyJ0"
      },
      "execution_count": null,
      "outputs": []
    },
    {
      "cell_type": "code",
      "source": [
        "x=12\n",
        "print(bin(x))"
      ],
      "metadata": {
        "id": "XaUfGR5DS6jX"
      },
      "execution_count": null,
      "outputs": []
    },
    {
      "cell_type": "code",
      "source": [
        "### PROBLEM 1 - Basic Data Types, Finding the percentage (4)\n",
        "\n",
        "if __name__ == '__main__':\n",
        "    n = int(input())\n",
        "    student_marks = {}\n",
        "    for _ in range(n):\n",
        "        name, *line = input().split()\n",
        "        scores = list(map(float, line))\n",
        "        student_marks[name] = scores\n",
        "\n",
        "    query_name = input()\n",
        "\n",
        "    query_scores = student_marks[query_name]\n",
        "    average = sum(query_scores) / len(query_scores)\n",
        "\n",
        "    print(f\"{average:.2f}\")"
      ],
      "metadata": {
        "id": "SYkLVQUFjJhy"
      },
      "execution_count": null,
      "outputs": []
    },
    {
      "cell_type": "code",
      "source": [
        "### PROBLEM 1 - Basic Data Types, Lists (5)\n",
        "\n",
        "if __name__ == '__main__':\n",
        "    N = int(input())\n",
        "    list_1 = []\n",
        "\n",
        "    for _ in range(N):\n",
        "        command = input().split()\n",
        "\n",
        "        if command[0] == 'insert':\n",
        "            list_1.insert(int(command[1]), int(command[2]))\n",
        "\n",
        "        elif command[0] == 'print':\n",
        "            print(list_1)\n",
        "\n",
        "        elif command[0] == 'remove':\n",
        "            list_1.remove(int(command[1]))\n",
        "\n",
        "        elif command[0] == 'append':\n",
        "            list_1.append(int(command[1]))\n",
        "\n",
        "        elif command[0] == 'sort':\n",
        "            list_1.sort()\n",
        "\n",
        "        elif command[0] == 'pop':\n",
        "            list_1.pop()\n",
        "\n",
        "        elif command[0] == 'reverse':\n",
        "            list_1.reverse()"
      ],
      "metadata": {
        "id": "ps4SsiB_jOio"
      },
      "execution_count": null,
      "outputs": []
    },
    {
      "cell_type": "code",
      "source": [
        "### PROBLEM 1 - Basic Data Types, Tuples (6)\n",
        "\n"
      ],
      "metadata": {
        "id": "JHZeZKynjS_j"
      },
      "execution_count": null,
      "outputs": []
    },
    {
      "cell_type": "markdown",
      "source": [
        "# Strings (3)"
      ],
      "metadata": {
        "id": "Kkt-qGigkGkl"
      }
    },
    {
      "cell_type": "code",
      "source": [
        "### PROBLEM 1 - Strings, sWAP cASE (1)\n",
        "\n",
        "def swap_case(s):\n",
        "    return s.swapcase()\n",
        "\n",
        "if __name__ == '__main__':\n",
        "    s = input()\n",
        "    result = swap_case(s)\n",
        "    print(result)"
      ],
      "metadata": {
        "id": "0RuRKtRHjmBx"
      },
      "execution_count": null,
      "outputs": []
    },
    {
      "cell_type": "code",
      "source": [
        "### PROBLEM 1 - Strings, String Split and Join (2)\n",
        "\n",
        "def split_and_join(line):\n",
        "    return '-'.join(line.split())\n",
        "\n",
        "if __name__ == '__main__':\n",
        "    line = input()\n",
        "    result = split_and_join(line)\n",
        "    print(result)"
      ],
      "metadata": {
        "id": "abJ4jcOokEWA"
      },
      "execution_count": null,
      "outputs": []
    },
    {
      "cell_type": "code",
      "source": [
        "### PROBLEM 1 - Strings, What's Your Name? (3)\n",
        "\n",
        "def print_full_name(first, last):\n",
        "    print(f\"Hello {first} {last}! You just delved into python.\")\n",
        "\n",
        "if __name__ == '__main__':\n",
        "    first_name = input()\n",
        "    last_name = input()\n",
        "    print_full_name(first_name, last_name)"
      ],
      "metadata": {
        "id": "RpZEnUAqkWg-"
      },
      "execution_count": null,
      "outputs": []
    },
    {
      "cell_type": "code",
      "source": [
        "### PROBLEM 1 - Strings, Mutations (4)\n",
        "\n",
        "def mutate_string(string, position, character):\n",
        "    return string[:position] + character + string[position+1:]\n",
        "\n",
        "if __name__ == '__main__':\n",
        "    s = input()\n",
        "    i, c = input().split()\n",
        "    s_new = mutate_string(s, int(i), c)\n",
        "    print(s_new)"
      ],
      "metadata": {
        "id": "dd2e6-Z6klD3"
      },
      "execution_count": null,
      "outputs": []
    },
    {
      "cell_type": "code",
      "source": [
        "### PROBLEM 1 - Strings, Find a string (5)\n",
        "\n",
        "def count_substring(string, sub_string):\n",
        "    count = 0\n",
        "    for i in range(len(string) - len(sub_string) + 1):\n",
        "        if string[i:i+len(sub_string)] == sub_string:\n",
        "            count += 1\n",
        "    return count\n",
        "\n",
        "if __name__ == '__main__':\n",
        "    string = input().strip()\n",
        "    sub_string = input().strip()\n",
        "\n",
        "    count = count_substring(string, sub_string)\n",
        "    print(count)"
      ],
      "metadata": {
        "id": "sp9-SAfYkxdu"
      },
      "execution_count": null,
      "outputs": []
    },
    {
      "cell_type": "code",
      "source": [
        "### PROBLEM 1 - Strings, String Validators (6)\n",
        "\n",
        "if __name__ == '__main__':\n",
        "    s = input()\n",
        "\n",
        "    # Check for any alphanumeric characters\n",
        "    print(any(c.isalnum() for c in s))\n",
        "\n",
        "    # Check for any alphabetical characters\n",
        "    print(any(c.isalpha() for c in s))\n",
        "\n",
        "    # Check for any digits\n",
        "    print(any(c.isdigit() for c in s))\n",
        "\n",
        "    # Check for any lowercase characters\n",
        "    print(any(c.islower() for c in s))\n",
        "\n",
        "    # Check for any uppercase characters\n",
        "    print(any(c.isupper() for c in s))"
      ],
      "metadata": {
        "id": "4DVOAUick7Sm"
      },
      "execution_count": null,
      "outputs": []
    },
    {
      "cell_type": "code",
      "source": [
        "### PROBLEM 1 - Strings, Text Alignment (7)\n",
        "\n",
        "# Top Pillars\n",
        "for i in range(thickness+1):\n",
        "    print((c*thickness).center(thickness*2)+(c*thickness).center(thickness*6))\n",
        "\n",
        "# Middle Belt\n",
        "for i in range((thickness+1)//2):\n",
        "    print((c*thickness*5).center(thickness*6))\n",
        "\n",
        "# Bottom Pillars\n",
        "for i in range(thickness+1):\n",
        "    print((c*thickness).center(thickness*2)+(c*thickness).center(thickness*6))\n",
        "\n",
        "# Bottom Cone\n",
        "for i in range(thickness):\n",
        "    print(((c*(thickness-i-1)).rjust(thickness)+c+(c*(thickness-i-1)).ljust(thickness)).rjust(thickness*6))"
      ],
      "metadata": {
        "id": "nE7ccv8SlGwq"
      },
      "execution_count": null,
      "outputs": []
    },
    {
      "cell_type": "code",
      "source": [
        "### PROBLEM 1 - Strings, Text Wrap (8)\n",
        "\n",
        "import textwrap\n",
        "\n",
        "def wrap(string, max_width):\n",
        "    return textwrap.fill(string, max_width)\n",
        "\n",
        "if __name__ == '__main__':\n",
        "    string, max_width = input(), int(input())\n",
        "    result = wrap(string, max_width)\n",
        "    print(result)"
      ],
      "metadata": {
        "id": "oxc-jvV3lOTg"
      },
      "execution_count": null,
      "outputs": []
    },
    {
      "cell_type": "code",
      "source": [
        "### PROBLEM 1 - Strings, Designer Door Mat (9)\n",
        "\n",
        "n, m = map(int, input().split())\n",
        "\n",
        "for i in range(1, n, 2):\n",
        "    print(('.|.' * i).center(m, '-'))\n",
        "\n",
        "print('WELCOME'.center(m, '-'))\n",
        "\n",
        "for i in range(n-2, 0, -2):\n",
        "    print(('.|.' * i).center(m, '-'))"
      ],
      "metadata": {
        "id": "wOPxgjKLlaSL"
      },
      "execution_count": null,
      "outputs": []
    },
    {
      "cell_type": "code",
      "source": [
        "### PROBLEM 1 - Strings, String Formatting (10)\n",
        "\n",
        "def print_formatted(number):\n",
        "    width = len(bin(number)) - 2\n",
        "\n",
        "    for i in range(1, number + 1):\n",
        "        print(f\"{i:{width}d} {i:{width}o} {i:{width}X} {i:{width}b}\")\n",
        "\n",
        "if __name__ == '__main__':\n",
        "    n = int(input())\n",
        "    print_formatted(n)"
      ],
      "metadata": {
        "id": "YbdPxsERlj9q"
      },
      "execution_count": null,
      "outputs": []
    },
    {
      "cell_type": "code",
      "source": [
        "### PROBLEM 1 - Strings, Alphabet Rangoli (11)\n",
        "\n",
        "def print_rangoli(size):\n",
        "    alphabet = [chr(i) for i in range(97, 97 + size)]\n",
        "\n",
        "    lines = []\n",
        "\n",
        "    # Create the rangoli pattern\n",
        "    for i in range(size):\n",
        "        left = alphabet[size-1:i:-1]\n",
        "        right = alphabet[i:size]\n",
        "        line = \"-\".join(left + right)\n",
        "        lines.append(line.center(4*size - 3, '-'))\n",
        "\n",
        "    print(\"\\n\".join(lines[::-1] + lines[1:]))\n",
        "\n",
        "if __name__ == '__main__':\n",
        "    n = int(input())\n",
        "    print_rangoli(n)"
      ],
      "metadata": {
        "id": "h7DMhIUClqmc"
      },
      "execution_count": null,
      "outputs": []
    },
    {
      "cell_type": "code",
      "source": [
        "### PROBLEM 1 - Strings, Capitalize! (12)\n",
        "\n",
        "#!/bin/python3\n",
        "\n",
        "import math\n",
        "import os\n",
        "import random\n",
        "import re\n",
        "import sys\n",
        "\n",
        "def solve(s):\n",
        "    return ' '.join([word.capitalize() for word in s.split(' ')])\n",
        "\n",
        "if __name__ == '__main__':\n",
        "    fptr = open(os.environ['OUTPUT_PATH'], 'w')\n",
        "\n",
        "    s = input()\n",
        "\n",
        "    result = solve(s)\n",
        "\n",
        "    fptr.write(result + '\\n')\n",
        "\n",
        "    fptr.close()"
      ],
      "metadata": {
        "id": "ZB4H2iOUly7t"
      },
      "execution_count": null,
      "outputs": []
    },
    {
      "cell_type": "code",
      "source": [
        "### PROBLEM 1 - Strings, The Minion Game (13)\n",
        "\n",
        "def minion_game(string):\n",
        "    n = len(string)\n",
        "\n",
        "    kevin_score = 0\n",
        "    stuart_score = 0\n",
        "\n",
        "    for i in range(n):\n",
        "        if string[i] in 'AEIOU':\n",
        "            kevin_score += n - i\n",
        "        else:\n",
        "            stuart_score += n - i\n",
        "\n",
        "    # Determine the winner\n",
        "    if kevin_score > stuart_score:\n",
        "        print(f\"Kevin {kevin_score}\")\n",
        "    elif stuart_score > kevin_score:\n",
        "        print(f\"Stuart {stuart_score}\")\n",
        "    else:\n",
        "        print(\"Draw\")\n",
        "\n",
        "if __name__ == '__main__':\n",
        "    s = input()\n",
        "    minion_game(s)"
      ],
      "metadata": {
        "id": "zD3Jtt7wl8if"
      },
      "execution_count": null,
      "outputs": []
    },
    {
      "cell_type": "code",
      "source": [
        "### PROBLEM 1 - Strings, Merge the Tools! (14)\n",
        "\n",
        "def merge_the_tools(string, k):\n",
        "    # Loop through the string in chunks of size k\n",
        "    for i in range(0, len(string), k):\n",
        "        t = string[i:i+k]\n",
        "\n",
        "        u = \"\"\n",
        "\n",
        "        for char in t:\n",
        "            if char not in u:\n",
        "                u += char\n",
        "\n",
        "        print(u)\n",
        "\n",
        "if __name__ == '__main__':\n",
        "    string, k = input(), int(input())\n",
        "    merge_the_tools(string, k)"
      ],
      "metadata": {
        "id": "xecSmdnFmAHY"
      },
      "execution_count": null,
      "outputs": []
    },
    {
      "cell_type": "markdown",
      "source": [
        "# Sets (4)"
      ],
      "metadata": {
        "id": "7SOOjZnYXHa2"
      }
    },
    {
      "cell_type": "code",
      "source": [
        "### PROBLEM 1 - Sets, Introduction to Sets (1)\n",
        "\n",
        "def average(array):\n",
        "    all_heights = set(array)\n",
        "\n",
        "    all_heights_sum = sum(all_heights)\n",
        "\n",
        "    heights_lenght = len(all_heights)\n",
        "\n",
        "    avg = all_heights_sum / heights_lenght\n",
        "\n",
        "    return round(avg, 3)\n",
        "\n",
        "if __name__ == '__main__':\n",
        "    n = int(input())\n",
        "    arr = list(map(int, input().split()))\n",
        "    result = average(arr)\n",
        "    print(result)"
      ],
      "metadata": {
        "id": "1A4sMS6NwnNb"
      },
      "execution_count": null,
      "outputs": []
    },
    {
      "cell_type": "code",
      "source": [
        "### PROBLEM 1 - Sets, Symmetric Difference (2)\n",
        "\n",
        "# Read input\n",
        "m = int(input())\n",
        "m_set = set(map(int, input().split()))\n",
        "\n",
        "n = int(input())\n",
        "n_set = set(map(int, input().split()))\n",
        "\n",
        "symmetric_diff = m_set.symmetric_difference(n_set)\n",
        "\n",
        "for value in sorted(symmetric_diff):\n",
        "    print(value)"
      ],
      "metadata": {
        "id": "3hO027vWwuPF"
      },
      "execution_count": null,
      "outputs": []
    },
    {
      "cell_type": "code",
      "source": [
        "### PROBLEM 1 - Sets, No Idea! (3)\n",
        "\n",
        "n, m = map(int, input().split())\n",
        "array = list(map(int, input().split()))\n",
        "\n",
        "A = set(map(int, input().split()))\n",
        "B = set(map(int, input().split()))\n",
        "\n",
        "happiness = 0\n",
        "\n",
        "for i in array:\n",
        "    if i in A:\n",
        "        happiness += 1\n",
        "    elif i in B:\n",
        "        happiness -= 1\n",
        "\n",
        "print(happiness)"
      ],
      "metadata": {
        "id": "lGyiG5Lzw3ac"
      },
      "execution_count": null,
      "outputs": []
    },
    {
      "cell_type": "code",
      "source": [
        "### PROBLEM 1 - Sets, Set .add() (4)\n",
        "\n",
        "n = int(input())\n",
        "\n",
        "country_stamps = set()\n",
        "\n",
        "for _ in range(n):\n",
        "    country = input().strip()\n",
        "    country_stamps.add(country)\n",
        "\n",
        "print(len(country_stamps))"
      ],
      "metadata": {
        "id": "We6iQXxlw6YB"
      },
      "execution_count": null,
      "outputs": []
    },
    {
      "cell_type": "code",
      "source": [
        "### PROBLEM 1 - Sets, Set .discard(), .remove() & .pop() (5)\n",
        "\n"
      ],
      "metadata": {
        "id": "rwPe_563w-lP"
      },
      "execution_count": null,
      "outputs": []
    },
    {
      "cell_type": "code",
      "source": [
        "### PROBLEM 1 - Sets, Set .union() Operation (6)\n",
        "\n",
        "n = int(input())\n",
        "english_subscribers = set(map(int, input().split()))\n",
        "\n",
        "b = int(input())\n",
        "french_subscribers = set(map(int, input().split()))\n",
        "\n",
        "at_least_one_subscription = english_subscribers.union(french_subscribers)\n",
        "\n",
        "print(len(at_least_one_subscription))"
      ],
      "metadata": {
        "id": "WfrqZi06K34w"
      },
      "execution_count": null,
      "outputs": []
    },
    {
      "cell_type": "code",
      "source": [
        "### PROBLEM 1 - Sets, Set .intersection() Operation (7)\n",
        "\n",
        "n = int(input())\n",
        "english_subscribers = set(map(int, input().split()))\n",
        "\n",
        "b = int(input())\n",
        "french_subscribers = set(map(int, input().split()))\n",
        "\n",
        "both_subscriptions = english_subscribers.intersection(french_subscribers)\n",
        "\n",
        "print(len(both_subscriptions))"
      ],
      "metadata": {
        "id": "P2J416oANTG4"
      },
      "execution_count": null,
      "outputs": []
    },
    {
      "cell_type": "code",
      "source": [
        "### PROBLEM 1 - Sets, Set .difference() Operation (8)\n",
        "\n",
        "n = int(input())\n",
        "english_subscribers = set(map(int, input().split()))\n",
        "\n",
        "b = int(input())\n",
        "french_subscribers = set(map(int, input().split()))\n",
        "\n",
        "english_only = english_subscribers.difference(french_subscribers)\n",
        "\n",
        "print(len(english_only))"
      ],
      "metadata": {
        "id": "yT3OZlP8Ocxk"
      },
      "execution_count": null,
      "outputs": []
    },
    {
      "cell_type": "code",
      "source": [
        "### PROBLEM 1 - Sets, Set .symmetric_difference() Operation (9)\n",
        "\n",
        "n = int(input())\n",
        "english_subscribers = set(map(int, input().split()))\n",
        "\n",
        "b = int(input())\n",
        "french_subscribers = set(map(int, input().split()))\n",
        "\n",
        "symmetric_diff = english_subscribers.symmetric_difference(french_subscribers)\n",
        "\n",
        "print(len(symmetric_diff))"
      ],
      "metadata": {
        "id": "DRrwBp24PMKC"
      },
      "execution_count": null,
      "outputs": []
    },
    {
      "cell_type": "code",
      "source": [
        "### PROBLEM 1 - Sets, Set Mutations (10)\n",
        "\n",
        "n_A = int(input())\n",
        "A = set(map(int, input().split()))\n",
        "\n",
        "N = int(input())\n",
        "\n",
        "for _ in range(N):\n",
        "    operation, _ = input().split()\n",
        "\n",
        "    other_set = set(map(int, input().split()))\n",
        "\n",
        "    if operation == \"intersection_update\":\n",
        "        A.intersection_update(other_set)\n",
        "    elif operation == \"update\":\n",
        "        A.update(other_set)\n",
        "    elif operation == \"symmetric_difference_update\":\n",
        "        A.symmetric_difference_update(other_set)\n",
        "    elif operation == \"difference_update\":\n",
        "        A.difference_update(other_set)\n",
        "\n",
        "print(sum(A))"
      ],
      "metadata": {
        "id": "EdYNswmkP_v2"
      },
      "execution_count": null,
      "outputs": []
    },
    {
      "cell_type": "code",
      "source": [
        "### PROBLEM 1 - Sets, The Captain's Room (11)\n",
        "\n",
        "K = int(input())\n",
        "room_numbers = list(map(int, input().split()))\n",
        "\n",
        "captain_room = (sum(set(room_numbers)) * K - sum(room_numbers)) // (K - 1)\n",
        "\n",
        "print(captain_room)"
      ],
      "metadata": {
        "id": "Msuf4P9iSCVw"
      },
      "execution_count": null,
      "outputs": []
    },
    {
      "cell_type": "code",
      "source": [
        "### PROBLEM 1 - Sets, Check Subset (12)\n",
        "\n",
        "T = int(input())\n",
        "\n",
        "for _ in range(T):\n",
        "    num_A = int(input())\n",
        "    A = set(map(int, input().split()))\n",
        "\n",
        "    num_B = int(input())\n",
        "    B = set(map(int, input().split()))\n",
        "\n",
        "    print(A.issubset(B))"
      ],
      "metadata": {
        "id": "kDqM7ysBSFt-"
      },
      "execution_count": null,
      "outputs": []
    },
    {
      "cell_type": "code",
      "source": [
        "### PROBLEM 1 - Sets, Check Strict Superset (13)\n",
        "\n",
        "A = set(map(int, input().split()))\n",
        "\n",
        "n = int(input())\n",
        "\n",
        "is_strict_superset = True\n",
        "\n",
        "for _ in range(n):\n",
        "    other_set = set(map(int, input().split()))\n",
        "    if not (A.issuperset(other_set) and A != other_set):\n",
        "        is_strict_superset = False\n",
        "        break\n",
        "\n",
        "print(is_strict_superset)"
      ],
      "metadata": {
        "id": "58UqBkwVSNm8"
      },
      "execution_count": null,
      "outputs": []
    },
    {
      "cell_type": "markdown",
      "source": [
        "# Collections (5)"
      ],
      "metadata": {
        "id": "3-ROvl9J2c8K"
      }
    },
    {
      "cell_type": "code",
      "source": [
        "### PROBLEM 1 - Collections, collections.Counter() (1)\n",
        "\n",
        "X = int(input())\n",
        "shoe_sizes = list(map(int, input().split()))\n",
        "\n",
        "N = int(input())\n",
        "\n",
        "earnings = 0\n",
        "\n",
        "for _ in range(N):\n",
        "    size, price = map(int, input().split())\n",
        "    if size in shoe_sizes:\n",
        "        earnings += price\n",
        "        shoe_sizes.remove(size)\n",
        "\n",
        "print(earnings)"
      ],
      "metadata": {
        "id": "PJmNv-P02gRF"
      },
      "execution_count": null,
      "outputs": []
    },
    {
      "cell_type": "code",
      "source": [
        "### PROBLEM 1 - Collections, DefaultDict Tutorial (2)\n",
        "\n",
        "from collections import defaultdict\n",
        "\n",
        "n, m = map(int, input().split())\n",
        "\n",
        "A = defaultdict(list)\n",
        "for i in range(1, n + 1):\n",
        "    word = input().strip()\n",
        "    A[word].append(i)\n",
        "\n",
        "for _ in range(m):\n",
        "    word = input().strip()\n",
        "    if word in A:\n",
        "        print(' '.join(map(str, A[word])))\n",
        "    else:\n",
        "        print(-1)"
      ],
      "metadata": {
        "id": "RZeZUB3J2kyg"
      },
      "execution_count": null,
      "outputs": []
    },
    {
      "cell_type": "code",
      "source": [
        "### PROBLEM 1 - Collections, Collections.namedtuple() (3)\n",
        "\n",
        "n = int(input())\n",
        "\n",
        "columns = input().split()\n",
        "\n",
        "marks_index = columns.index('MARKS')\n",
        "\n",
        "total_marks = 0\n",
        "\n",
        "for _ in range(n):\n",
        "    student_data = input().split()\n",
        "    total_marks += int(student_data[marks_index])\n",
        "\n",
        "average_marks = total_marks / n\n",
        "\n",
        "print(f\"{average_marks:.2f}\")"
      ],
      "metadata": {
        "id": "HRKmGnSr2loK"
      },
      "execution_count": null,
      "outputs": []
    },
    {
      "cell_type": "code",
      "source": [
        "### PROBLEM 1 - Collections, Collections.OrderedDict() (4)\n",
        "\n",
        "n = int(input())\n",
        "\n",
        "items = {}\n",
        "order = []\n",
        "\n",
        "for _ in range(n):\n",
        "    *item_name, price = input().split()\n",
        "    item_name = \" \".join(item_name)\n",
        "    price = int(price)\n",
        "\n",
        "    if item_name in items:\n",
        "        items[item_name] += price\n",
        "    else:\n",
        "        items[item_name] = price\n",
        "        order.append(item_name)\n",
        "\n",
        "for item_name in order:\n",
        "    print(item_name, items[item_name])"
      ],
      "metadata": {
        "id": "GleRITbp2m5A"
      },
      "execution_count": null,
      "outputs": []
    },
    {
      "cell_type": "code",
      "source": [
        "### PROBLEM 1 - Collections, Word Order (5)\n",
        "\n",
        "n = int(input())\n",
        "\n",
        "word_count = {}\n",
        "order = []\n",
        "\n",
        "for _ in range(n):\n",
        "    word = input().strip()\n",
        "    if word in word_count:\n",
        "        word_count[word] += 1\n",
        "    else:\n",
        "        word_count[word] = 1\n",
        "        order.append(word)\n",
        "\n",
        "print(len(order))\n",
        "\n",
        "print(' '.join(str(word_count[word]) for word in order))"
      ],
      "metadata": {
        "id": "HJ7_GRX02n6H"
      },
      "execution_count": null,
      "outputs": []
    },
    {
      "cell_type": "code",
      "source": [
        "### PROBLEM 1 - Collections, Collections.deque() (6)\n",
        "\n",
        "from collections import deque\n",
        "\n",
        "d = deque()\n",
        "\n",
        "n = int(input())\n",
        "\n",
        "for _ in range(n):\n",
        "    command = input().split()\n",
        "    operation = command[0]\n",
        "\n",
        "    if operation == 'append':\n",
        "        d.append(command[1])\n",
        "    elif operation == 'appendleft':\n",
        "        d.appendleft(command[1])\n",
        "    elif operation == 'pop':\n",
        "        d.pop()\n",
        "    elif operation == 'popleft':\n",
        "        d.popleft()\n",
        "\n",
        "print(' '.join(d))"
      ],
      "metadata": {
        "id": "JgSlI6R_2owr"
      },
      "execution_count": null,
      "outputs": []
    },
    {
      "cell_type": "code",
      "source": [
        "### PROBLEM 1 - Collections, Piling Up! (7)\n",
        "\n",
        "T = int(input())\n",
        "\n",
        "for _ in range(T):\n",
        "    n = int(input())\n",
        "\n",
        "    cubes = list(map(int, input().split()))\n",
        "\n",
        "    left = 0\n",
        "    right = n - 1\n",
        "\n",
        "    top = float('inf')\n",
        "\n",
        "    possible = True\n",
        "    while left <= right:\n",
        "        if cubes[left] >= cubes[right]:\n",
        "            chosen = cubes[left]\n",
        "            left += 1\n",
        "        else:\n",
        "            chosen = cubes[right]\n",
        "            right -= 1\n",
        "\n",
        "        if chosen > top:\n",
        "            possible = False\n",
        "            break\n",
        "\n",
        "        top = chosen\n",
        "\n",
        "    if possible:\n",
        "        print(\"Yes\")\n",
        "    else:\n",
        "        print(\"No\")"
      ],
      "metadata": {
        "id": "onxWP-KO2pWt"
      },
      "execution_count": null,
      "outputs": []
    },
    {
      "cell_type": "code",
      "source": [
        "### PROBLEM 1 - Collections, Company Logo (8)\n",
        "\n",
        "from collections import Counter\n",
        "\n",
        "if __name__ == '__main__':\n",
        "    s = input().strip()\n",
        "\n",
        "    char_count = Counter(s)\n",
        "\n",
        "    sorted_characters = sorted(char_count.items(), key=lambda x: (-x[1], x[0]))\n",
        "\n",
        "    for i in range(min(3, len(sorted_characters))):\n",
        "        print(sorted_characters[i][0], sorted_characters[i][1])"
      ],
      "metadata": {
        "id": "d6ODX5UK2qDk"
      },
      "execution_count": null,
      "outputs": []
    },
    {
      "cell_type": "markdown",
      "source": [
        "# Date and Time (6)"
      ],
      "metadata": {
        "id": "5vLIV3e-tu2h"
      }
    },
    {
      "cell_type": "code",
      "source": [
        "### PROBLEM 1 - Date and Time, Calendar Module (1)\n",
        "\n",
        "import calendar\n",
        "from datetime import datetime\n",
        "\n",
        "month, day, year = map(int, input().split())\n",
        "\n",
        "date_object = datetime(year, month, day)\n",
        "\n",
        "day_name = calendar.day_name[date_object.weekday()]\n",
        "\n",
        "print(day_name.upper())"
      ],
      "metadata": {
        "id": "r3StOdhltx_z"
      },
      "execution_count": null,
      "outputs": []
    },
    {
      "cell_type": "code",
      "source": [
        "### PROBLEM 1 - Date and Time, Time Delta (2)\n",
        "\n",
        "from datetime import datetime\n",
        "\n",
        "def time_delta(t1, t2):\n",
        "    fmt = \"%a %d %b %Y %H:%M:%S %z\"\n",
        "\n",
        "    dt1 = datetime.strptime(t1, fmt)\n",
        "    dt2 = datetime.strptime(t2, fmt)\n",
        "\n",
        "    delta = abs((dt1 - dt2).total_seconds())\n",
        "\n",
        "    return str(int(delta))\n",
        "\n",
        "if __name__ == '__main__':\n",
        "    fptr = open(os.environ['OUTPUT_PATH'], 'w')\n",
        "\n",
        "    t = int(input())\n",
        "\n",
        "    for t_itr in range(t):\n",
        "        t1 = input()\n",
        "        t2 = input()\n",
        "\n",
        "        delta = time_delta(t1, t2)\n",
        "\n",
        "        fptr.write(delta + '\\n')\n",
        "\n",
        "    fptr.close()"
      ],
      "metadata": {
        "id": "rW2BxVF-tyXD"
      },
      "execution_count": null,
      "outputs": []
    },
    {
      "cell_type": "markdown",
      "source": [
        "# (Errors and) Exceptions (7)"
      ],
      "metadata": {
        "id": "HBXm_jM6v654"
      }
    },
    {
      "cell_type": "code",
      "source": [
        "### PROBLEM 1 - (Errors and) Exceptions, Exceptions (1)\n",
        "\n",
        "if __name__ == '__main__':\n",
        "    t = int(input())\n",
        "\n",
        "    for _ in range(t):\n",
        "        try:\n",
        "            a, b = map(int, input().split())\n",
        "            result = a // b\n",
        "            print(result)\n",
        "        except ZeroDivisionError as e:\n",
        "            print(\"Error Code:\", e)\n",
        "        except ValueError as e:\n",
        "            print(\"Error Code:\", e)"
      ],
      "metadata": {
        "id": "EIzVay3Hwj0w"
      },
      "execution_count": null,
      "outputs": []
    },
    {
      "cell_type": "markdown",
      "source": [
        "# Built-Ins (8)"
      ],
      "metadata": {
        "id": "9isUGUnmz4kB"
      }
    },
    {
      "cell_type": "code",
      "source": [
        "### PROBLEM 1 - Built-Ins, Zipped! (1)\n",
        "\n"
      ],
      "metadata": {
        "id": "_iiQVmVC0JcY"
      },
      "execution_count": null,
      "outputs": []
    },
    {
      "cell_type": "code",
      "source": [
        "### PROBLEM 1 - Built-Ins, Athlete Sort (4)\n",
        "\n",
        "#!/bin/python3\n",
        "\n",
        "import math\n",
        "import os\n",
        "import random\n",
        "import re\n",
        "import sys\n",
        "\n",
        "\n",
        "if __name__ == '__main__':\n",
        "    nm = input().split()\n",
        "\n",
        "    n = int(nm[0])\n",
        "    m = int(nm[1])\n",
        "\n",
        "    arr = []\n",
        "\n",
        "    for _ in range(n):\n",
        "        arr.append(list(map(int, input().split())))\n",
        "\n",
        "    k = int(input())\n",
        "\n",
        "    arr.sort(key=lambda x: x[k])\n",
        "\n",
        "    for i in arr:\n",
        "        print(*i)"
      ],
      "metadata": {
        "id": "7ufKyDDN0-Jv"
      },
      "execution_count": null,
      "outputs": []
    },
    {
      "cell_type": "code",
      "source": [
        "### PROBLEM 1 - Built-Ins, ginortS (6)\n",
        "\n",
        "def custom_sort_key(char):\n",
        "    if char.islower():\n",
        "        return (0, char)\n",
        "    elif char.isupper():\n",
        "        return (1, char)\n",
        "    elif char.isdigit():\n",
        "        if int(char) % 2 == 1:\n",
        "            return (2, char)\n",
        "        else:\n",
        "            return (3, char)\n",
        "\n",
        "if __name__ == \"__main__\":\n",
        "    s = input().strip()\n",
        "\n",
        "    sorted_string = ''.join(sorted(s, key=custom_sort_key))\n",
        "\n",
        "    print(sorted_string)"
      ],
      "metadata": {
        "id": "Fbi6ozGW0_ET"
      },
      "execution_count": null,
      "outputs": []
    },
    {
      "cell_type": "markdown",
      "source": [
        "# Python Functionals (9)"
      ],
      "metadata": {
        "id": "ZdVi6kaT-MSf"
      }
    },
    {
      "cell_type": "code",
      "source": [
        "### PROBLEM 1 - Python Functionals, Map and Lambda Function (1)\n",
        "\n",
        "cube = lambda x: x**3\n",
        "\n",
        "def fibonacci(n):\n",
        "    fib_seq = []\n",
        "    a, b = 0, 1\n",
        "    for _ in range(n):\n",
        "        fib_seq.append(a)\n",
        "        a, b = b, a + b\n",
        "    return fib_seq\n",
        "\n",
        "if __name__ == '__main__':\n",
        "    n = int(input())\n",
        "\n",
        "    print(list(map(cube, fibonacci(n))))"
      ],
      "metadata": {
        "id": "VqvYyxHI_7-I"
      },
      "execution_count": null,
      "outputs": []
    },
    {
      "cell_type": "markdown",
      "source": [
        "# Regex and Parsing challenges (10)"
      ],
      "metadata": {
        "id": "qPu2vA62BpNh"
      }
    },
    {
      "cell_type": "code",
      "source": [
        "### PROBLEM 1 - Regex and Parsing challenges, Detect Floating Point Number (1)\n",
        "\n",
        "def is_float(n):\n",
        "    try:\n",
        "        if n.count('.') != 1:\n",
        "            return False\n",
        "\n",
        "        float(n)\n",
        "\n",
        "        if n[-1] == '.':\n",
        "            return False\n",
        "\n",
        "        return True\n",
        "    except ValueError:\n",
        "        return False\n",
        "\n",
        "if __name__ == '__main__':\n",
        "    t = int(input().strip())\n",
        "\n",
        "    for _ in range(t):\n",
        "        n = input().strip()\n",
        "        print(is_float(n))"
      ],
      "metadata": {
        "id": "3oKT8oyCBoV4"
      },
      "execution_count": null,
      "outputs": []
    },
    {
      "cell_type": "code",
      "source": [
        "### PROBLEM 1 - Regex and Parsing challenges, Re.split() (2)\n",
        "\n",
        "import re\n",
        "\n",
        "regex_pattern = r\"[,.]\"\n",
        "\n",
        "print(\"\\n\".join(re.split(regex_pattern, input())))"
      ],
      "metadata": {
        "id": "BLvVzjeoUuqo"
      },
      "execution_count": null,
      "outputs": []
    },
    {
      "cell_type": "code",
      "source": [
        "### PROBLEM 1 - Regex and Parsing challenges, Group(), Groups() & Groupdict() (3)\n",
        "\n",
        "import re\n",
        "\n",
        "s = input().strip()\n",
        "\n",
        "match = re.search(r'([a-zA-Z0-9])\\1', s)\n",
        "\n",
        "if match:\n",
        "    print(match.group(1))\n",
        "else:\n",
        "    print(-1)"
      ],
      "metadata": {
        "id": "2DNUL5QVUvac"
      },
      "execution_count": null,
      "outputs": []
    },
    {
      "cell_type": "code",
      "source": [
        "### PROBLEM 1 - Regex and Parsing challenges, Re.findall() & Re.finditer() (4)\n",
        "\n",
        "import re\n",
        "\n",
        "s = input().strip()\n",
        "\n",
        "pattern = r'(?<=[qwrtypsdfghjklzxcvbnmQWRTYPSDFGHJKLZXCVBNM])[aeiouAEIOU]{2,}(?=[qwrtypsdfghjklzxcvbnmQWRTYPSDFGHJKLZXCVBNM])'\n",
        "\n",
        "matches = re.findall(pattern, s)\n",
        "\n",
        "if matches:\n",
        "    for match in matches:\n",
        "        print(match)\n",
        "else:\n",
        "    print(-1)"
      ],
      "metadata": {
        "id": "a_GfyZBSUwDi"
      },
      "execution_count": null,
      "outputs": []
    },
    {
      "cell_type": "code",
      "source": [
        "### PROBLEM 1 - Regex and Parsing challenges, Re.start() & Re.end() (5)\n",
        "\n",
        "s = input().strip()\n",
        "k = input().strip()\n",
        "\n",
        "start = 0\n",
        "found = False\n",
        "\n",
        "while start < len(s):\n",
        "    index = s.find(k, start)\n",
        "\n",
        "    if index == -1:\n",
        "        break\n",
        "\n",
        "    print(f\"({index}, {index + len(k) - 1})\")\n",
        "    found = True\n",
        "\n",
        "    start = index + 1\n",
        "\n",
        "if not found:\n",
        "    print(\"(-1, -1)\")"
      ],
      "metadata": {
        "id": "j1pjR2n4UwxT"
      },
      "execution_count": null,
      "outputs": []
    },
    {
      "cell_type": "code",
      "source": [
        "### PROBLEM 1 - Regex and Parsing challenges, Regex Substitution (6)\n",
        "\n",
        "import re\n",
        "\n",
        "n = int(input())\n",
        "\n",
        "for _ in range(n):\n",
        "    line = input()\n",
        "    line = re.sub(r'(?<= )&&(?= )', 'and', line)\n",
        "    line = re.sub(r'(?<= )\\|\\|(?= )', 'or', line)\n",
        "    print(line)"
      ],
      "metadata": {
        "id": "5lE1L9nmUxw8"
      },
      "execution_count": null,
      "outputs": []
    },
    {
      "cell_type": "code",
      "source": [
        "### PROBLEM 1 - Regex and Parsing challenges, Validating Roman Numerals (7)\n",
        "\n",
        "import re\n",
        "\n",
        "regex_pattern = r\"^M{0,3}(CM|CD|D?C{0,3})(XC|XL|L?X{0,3})(IX|IV|V?I{0,3})$\"\n",
        "\n",
        "print(str(bool(re.match(regex_pattern, input()))))"
      ],
      "metadata": {
        "id": "9EggvyVEUyf9"
      },
      "execution_count": null,
      "outputs": []
    },
    {
      "cell_type": "code",
      "source": [
        "### PROBLEM 1 - Regex and Parsing challenges, Validating phone numbers (8)\n",
        "\n",
        "import re\n",
        "\n",
        "n = int(input())\n",
        "\n",
        "pattern = r'^[789]\\d{9}$'\n",
        "\n",
        "for _ in range(n):\n",
        "    number = input().strip()\n",
        "    if re.match(pattern, number):\n",
        "        print(\"YES\")\n",
        "    else:\n",
        "        print(\"NO\")"
      ],
      "metadata": {
        "id": "PO9MglUZUz61"
      },
      "execution_count": null,
      "outputs": []
    },
    {
      "cell_type": "code",
      "source": [
        "### PROBLEM 1 - Regex and Parsing challenges, Validating and Parsing Email Addresses (9)\n",
        "\n",
        "import email.utils\n",
        "import re\n",
        "\n",
        "email_pattern = r'^[a-zA-Z][\\w\\.-]*@[a-zA-Z]+\\.[a-zA-Z]{1,3}$'\n",
        "\n",
        "n = int(input())\n",
        "\n",
        "for _ in range(n):\n",
        "    name, email_address = email.utils.parseaddr(input())\n",
        "\n",
        "    if re.match(email_pattern, email_address):\n",
        "        print(email.utils.formataddr((name, email_address)))"
      ],
      "metadata": {
        "id": "7NyCNDyjU0kf"
      },
      "execution_count": null,
      "outputs": []
    },
    {
      "cell_type": "code",
      "source": [
        "### PROBLEM 1 - Regex and Parsing challenges, Hex Color Code (10)\n",
        "\n",
        "import re\n",
        "\n",
        "n = int(input())\n",
        "for i in range(n):\n",
        "    m = re.findall(r'#[0-9A-Fa-f]{6}(?=\\S)|#[0-9A-Fa-f]{3}(?=\\S)',input())\n",
        "    if m:\n",
        "        for i in range(len(m)):\n",
        "            print(m[i])"
      ],
      "metadata": {
        "id": "-z8XU-m3U3b-"
      },
      "execution_count": null,
      "outputs": []
    },
    {
      "cell_type": "code",
      "source": [
        "### PROBLEM 1 - Regex and Parsing challenges, HTML Parser - Part 1 (11)\n",
        "\n",
        "from html.parser import HTMLParser\n",
        "\n",
        "class MyHTMLParser(HTMLParser):\n",
        "    def handle_starttag(self, tag, attrs):\n",
        "        print(f\"Start : {tag}\")\n",
        "        for attr, value in attrs:\n",
        "            print(f\"-> {attr} > {value if value is not None else 'None'}\")\n",
        "\n",
        "    def handle_endtag(self, tag):\n",
        "        print(f\"End   : {tag}\")\n",
        "\n",
        "    def handle_startendtag(self, tag, attrs):\n",
        "        print(f\"Empty : {tag}\")\n",
        "        for attr, value in attrs:\n",
        "            print(f\"-> {attr} > {value if value is not None else 'None'}\")\n",
        "\n",
        "n = int(input())\n",
        "html_code = \"\\n\".join(input() for _ in range(n))\n",
        "\n",
        "parser = MyHTMLParser()\n",
        "parser.feed(html_code)"
      ],
      "metadata": {
        "id": "1t7diyluU3HT"
      },
      "execution_count": null,
      "outputs": []
    },
    {
      "cell_type": "code",
      "source": [
        "### PROBLEM 1 - Regex and Parsing challenges, HTML Parser - Part 2 (12)\n",
        "\n",
        "from html.parser import HTMLParser\n",
        "\n",
        "class MyHTMLParser(HTMLParser):\n",
        "\n",
        "    def handle_comment(self, data):\n",
        "        if '\\n' in data:\n",
        "            print(\">>> Multi-line Comment\")\n",
        "            print(data)\n",
        "        else:\n",
        "            print(\">>> Single-line Comment\")\n",
        "            print(data)\n",
        "\n",
        "    def handle_data(self, data):\n",
        "        if data.strip():\n",
        "            print(\">>> Data\")\n",
        "            print(data)\n",
        "\n",
        "html = \"\"\n",
        "for i in range(int(input())):\n",
        "    html += input().rstrip()\n",
        "    html += '\\n'\n",
        "\n",
        "parser = MyHTMLParser()\n",
        "parser.feed(html)\n",
        "parser.close()"
      ],
      "metadata": {
        "id": "Bzwoxea9U2xG"
      },
      "execution_count": null,
      "outputs": []
    },
    {
      "cell_type": "code",
      "source": [
        "### PROBLEM 1 - Regex and Parsing challenges, Detect HTML Tags, Attributes and Attribute Values (13)\n",
        "\n",
        "from html.parser import HTMLParser\n",
        "\n",
        "class MyHTMLParser(HTMLParser):\n",
        "\n",
        "    def handle_starttag(self, tag, attrs):\n",
        "        print(tag)\n",
        "        for attr, value in attrs:\n",
        "            print(f\"-> {attr} > {value}\")\n",
        "\n",
        "    def handle_startendtag(self, tag, attrs):\n",
        "        print(tag)\n",
        "        for attr, value in attrs:\n",
        "            print(f\"-> {attr} > {value}\")\n",
        "\n",
        "    def handle_comment(self, data):\n",
        "        pass\n",
        "\n",
        "n = int(input())\n",
        "html = \"\"\n",
        "for _ in range(n):\n",
        "    html += input().rstrip() + '\\n'\n",
        "\n",
        "parser = MyHTMLParser()\n",
        "\n",
        "parser.feed(html)"
      ],
      "metadata": {
        "id": "q9w7sdsXU2T8"
      },
      "execution_count": null,
      "outputs": []
    },
    {
      "cell_type": "code",
      "source": [
        "### PROBLEM 1 - Regex and Parsing challenges, Validating UID (14)\n",
        "\n",
        "import re\n",
        "\n",
        "def is_valid_uid(uid):\n",
        "    if len(uid) != 10:\n",
        "        return False\n",
        "\n",
        "    if len(re.findall(r'[A-Z]', uid)) < 2:\n",
        "        return False\n",
        "\n",
        "    if len(re.findall(r'[0-9]', uid)) < 3:\n",
        "        return False\n",
        "\n",
        "    if not uid.isalnum():\n",
        "        return False\n",
        "\n",
        "    if len(set(uid)) != len(uid):\n",
        "        return False\n",
        "\n",
        "    return True\n",
        "\n",
        "t = int(input())\n",
        "\n",
        "for _ in range(t):\n",
        "    uid = input().strip()\n",
        "    if is_valid_uid(uid):\n",
        "        print(\"Valid\")\n",
        "    else:\n",
        "        print(\"Invalid\")"
      ],
      "metadata": {
        "id": "XbBmeoUMU1wV"
      },
      "execution_count": null,
      "outputs": []
    },
    {
      "cell_type": "code",
      "source": [
        "### PROBLEM 1 - Regex and Parsing challenges, Validating Credit Card Numbers (15)\n",
        "\n",
        "import re\n",
        "\n",
        "def is_valid_credit_card(card_number):\n",
        "    pattern = r'^[4-6]\\d{3}(-?\\d{4}){3}$'\n",
        "\n",
        "    if not re.match(pattern, card_number):\n",
        "        return \"Invalid\"\n",
        "\n",
        "    card_number_clean = card_number.replace(\"-\", \"\")\n",
        "\n",
        "    if re.search(r'(\\d)\\1{3,}', card_number_clean):\n",
        "        return \"Invalid\"\n",
        "\n",
        "    return \"Valid\"\n",
        "\n",
        "n = int(input())\n",
        "\n",
        "for _ in range(n):\n",
        "    card_number = input().strip()\n",
        "    print(is_valid_credit_card(card_number))"
      ],
      "metadata": {
        "id": "Gv1NhTyRU7hn"
      },
      "execution_count": null,
      "outputs": []
    },
    {
      "cell_type": "code",
      "source": [
        "### PROBLEM 1 - Regex and Parsing challenges, Validating Postal Codes (16)\n",
        "\n",
        "import re\n",
        "\n",
        "regex_integer_in_range = r\"^[1-9][0-9]{5}$\"\n",
        "\n",
        "regex_alternating_repetitive_digit_pair = r\"(\\d)(?=\\d\\1)\"\n",
        "\n",
        "P = input()\n",
        "\n",
        "print (bool(re.match(regex_integer_in_range, P))\n",
        "       and len(re.findall(regex_alternating_repetitive_digit_pair, P)) < 2)"
      ],
      "metadata": {
        "id": "__1N3t6xU7Lu"
      },
      "execution_count": null,
      "outputs": []
    },
    {
      "cell_type": "code",
      "source": [
        "### PROBLEM 1 - Regex and Parsing challenges, Matrix Script (17)\n",
        "\n",
        "#!/bin/python3\n",
        "\n",
        "import math\n",
        "import os\n",
        "import random\n",
        "import re\n",
        "import sys\n",
        "\n",
        "first_multiple_input = input().rstrip().split()\n",
        "\n",
        "n = int(first_multiple_input[0])\n",
        "m = int(first_multiple_input[1])\n",
        "\n",
        "matrix = []\n",
        "\n",
        "for _ in range(n):\n",
        "    matrix_item = input()\n",
        "    matrix.append(matrix_item)\n",
        "\n",
        "print(re.sub(r'(?<=[A-Za-z0-9])([ !@#$%&]+)(?=[A-Za-z0-9])',' ', ''.join(s[i] for i in range(m) for s in matrix)))"
      ],
      "metadata": {
        "id": "DoliBT3mU6vE"
      },
      "execution_count": null,
      "outputs": []
    },
    {
      "cell_type": "markdown",
      "source": [
        "# XML (11)"
      ],
      "metadata": {
        "id": "HwN7lhPNR3Ka"
      }
    },
    {
      "cell_type": "code",
      "source": [
        "### PROBLEM 1 - XML, XML 1 - Find the Score (1)\n",
        "\n",
        "def get_attr_number(node):\n",
        "    total_attr = len(node.attrib)\n",
        "\n",
        "    if len(node) == 0:\n",
        "        return total_attr\n",
        "    return total_attr + sum(get_attr_number(child) for child in node)"
      ],
      "metadata": {
        "id": "7MaFOkeiR5JY"
      },
      "execution_count": null,
      "outputs": []
    },
    {
      "cell_type": "code",
      "source": [
        "### PROBLEM 1 - XML, XML2 - Find the Maximum Depth (2)\n",
        "\n",
        "maxdepth = 0\n",
        "def depth(elem, level):\n",
        "    global maxdepth\n",
        "    level += 1\n",
        "    for child in elem:\n",
        "        depth(child, level)\n",
        "    maxdepth = max(maxdepth, level)"
      ],
      "metadata": {
        "id": "iLeHjoawR9Ib"
      },
      "execution_count": null,
      "outputs": []
    },
    {
      "cell_type": "markdown",
      "source": [
        "# Closures and Decorators (12)"
      ],
      "metadata": {
        "id": "Ey9xa1mlFx_S"
      }
    },
    {
      "cell_type": "code",
      "source": [
        "### PROBLEM 1 - Closures and Decorators, Standardize Mobile Number Using Decorators (1)\n",
        "\n",
        "def wrapper(f):\n",
        "    def fun(l):\n",
        "        formatted_numbers = ['+91 {} {}'.format(number[-10:-5], number[-5:]) for number in l]\n",
        "        return f(formatted_numbers)\n",
        "    return fun\n",
        "\n",
        "@wrapper\n",
        "def sort_phone(l):\n",
        "    print(*sorted(l), sep='\\n')\n",
        "\n",
        "if __name__ == '__main__':\n",
        "    l = [input().strip() for _ in range(int(input()))]\n",
        "    sort_phone(l)"
      ],
      "metadata": {
        "id": "VOxCmhn-GCT4"
      },
      "execution_count": null,
      "outputs": []
    },
    {
      "cell_type": "code",
      "source": [
        "### PROBLEM 1 - Closures and Decorators, Decorators 2 - Name Directory (2)\n",
        "\n",
        "def person_lister(f):\n",
        "    def inner(people):\n",
        "        return [f(person) for person in sorted(people, key=lambda x: int(x[2]))]\n",
        "    return inner\n",
        "\n",
        "@person_lister\n",
        "def name_format(person):\n",
        "    return (\"Mr. \" if person[3] == \"M\" else \"Ms. \") + person[0] + \" \" + person[1]\n",
        "\n",
        "if __name__ == '__main__':\n",
        "    people = [input().split() for i in range(int(input()))]\n",
        "    print(*name_format(people), sep='\\n')"
      ],
      "metadata": {
        "id": "uQTa6q-tGIeV"
      },
      "execution_count": null,
      "outputs": []
    },
    {
      "cell_type": "markdown",
      "source": [
        "# NumPy (13)"
      ],
      "metadata": {
        "id": "UxsfdM2oJmzU"
      }
    },
    {
      "cell_type": "code",
      "source": [
        "### PROBLEM 1 - NumPy, Arrays (1)\n",
        "\n",
        "import numpy\n",
        "\n",
        "def arrays(arr):\n",
        "    return numpy.array(arr[::-1], dtype=float)\n",
        "\n",
        "arr = input().strip().split(' ')\n",
        "result = arrays(arr)\n",
        "print(result)"
      ],
      "metadata": {
        "id": "5AtvlsNSKVEY"
      },
      "execution_count": null,
      "outputs": []
    },
    {
      "cell_type": "code",
      "source": [
        "### PROBLEM 1 - NumPy, Shape and Reshape (2)\n",
        "\n",
        "import numpy as np\n",
        "\n",
        "arr = list(map(int, input().split()))\n",
        "\n",
        "numpy_array = np.array(arr).reshape(3, 3)\n",
        "\n",
        "print(numpy_array)"
      ],
      "metadata": {
        "id": "ABVYSMszKg1E"
      },
      "execution_count": null,
      "outputs": []
    },
    {
      "cell_type": "code",
      "source": [
        "### PROBLEM 1 - NumPy, Transpose and Flatten (3)\n",
        "\n",
        "import numpy as np\n",
        "\n",
        "n, m = map(int, input().split())\n",
        "\n",
        "matrix = np.array([input().split() for _ in range(n)], int)\n",
        "\n",
        "print(np.transpose(matrix))\n",
        "\n",
        "print(matrix.flatten())"
      ],
      "metadata": {
        "id": "8SytkjppKgbt"
      },
      "execution_count": null,
      "outputs": []
    },
    {
      "cell_type": "code",
      "source": [
        "### PROBLEM 1 - NumPy, Concatenate (4)\n",
        "\n",
        "import numpy as np\n",
        "\n",
        "n, m, p = map(int, input().split())\n",
        "\n",
        "array_1 = np.array([input().split() for _ in range(n)], int)\n",
        "\n",
        "array_2 = np.array([input().split() for _ in range(m)], int)\n",
        "\n",
        "result = np.concatenate((array_1, array_2), axis=0)\n",
        "\n",
        "print(result)"
      ],
      "metadata": {
        "id": "SgHZG8wcKgAA"
      },
      "execution_count": null,
      "outputs": []
    },
    {
      "cell_type": "code",
      "source": [
        "### PROBLEM 1 - NumPy, Zeros and Ones (5)\n",
        "\n",
        "import numpy as np\n",
        "\n",
        "shape = tuple(map(int, input().split()))\n",
        "\n",
        "print(np.zeros(shape, dtype=int))\n",
        "\n",
        "print(np.ones(shape, dtype=int))"
      ],
      "metadata": {
        "id": "H9IJmla7Kfl6"
      },
      "execution_count": null,
      "outputs": []
    },
    {
      "cell_type": "code",
      "source": [
        "### PROBLEM 1 - NumPy, Eye and Identity (6)\n",
        "\n",
        "import numpy as np\n",
        "np.set_printoptions(legacy='1.13')\n",
        "\n",
        "n, m = map(int, input().split())\n",
        "\n",
        "result = np.eye(n, m)\n",
        "\n",
        "print(result)"
      ],
      "metadata": {
        "id": "JxyYyAA3KfL1"
      },
      "execution_count": null,
      "outputs": []
    },
    {
      "cell_type": "code",
      "source": [
        "### PROBLEM 1 - NumPy, Array Mathematics (7)\n",
        "\n",
        "import numpy as np\n",
        "\n",
        "n, m = map(int, input().split())\n",
        "\n",
        "a = np.array([input().split() for _ in range(n)], int)\n",
        "b = np.array([input().split() for _ in range(n)], int)\n",
        "\n",
        "print(a + b)\n",
        "print(a - b)\n",
        "print(a * b)\n",
        "print(a // b)\n",
        "print(a % b)\n",
        "print(a ** b)"
      ],
      "metadata": {
        "id": "DVQ2LFNLKexO"
      },
      "execution_count": null,
      "outputs": []
    },
    {
      "cell_type": "code",
      "source": [
        "### PROBLEM 1 - NumPy, Floor, Ceil and Rint (8)\n",
        "\n",
        "import numpy as np\n",
        "\n",
        "np.set_printoptions(legacy='1.13')\n",
        "\n",
        "a = np.array(input().split(), float)\n",
        "\n",
        "print(np.floor(a))\n",
        "print(np.ceil(a))\n",
        "print(np.rint(a))"
      ],
      "metadata": {
        "id": "2BWOmaiZKeYP"
      },
      "execution_count": null,
      "outputs": []
    },
    {
      "cell_type": "code",
      "source": [
        "### PROBLEM 1 - NumPy, Sum and Prod (9)\n",
        "\n",
        "import numpy as np\n",
        "\n",
        "n, m = map(int, input().split())\n",
        "arr = np.array([input().split() for _ in range(n)], int)\n",
        "\n",
        "sum_along_axis_0 = np.sum(arr, axis=0)\n",
        "product_of_sum = np.prod(sum_along_axis_0)\n",
        "\n",
        "print(product_of_sum)"
      ],
      "metadata": {
        "id": "XHIRZ8-uKd9Q"
      },
      "execution_count": null,
      "outputs": []
    },
    {
      "cell_type": "code",
      "source": [
        "### PROBLEM 1 - NumPy, Min and Max (10)\n",
        "\n",
        "import numpy as np\n",
        "\n",
        "n, m = map(int, input().split())\n",
        "arr = np.array([input().split() for _ in range(n)], int)\n",
        "\n",
        "min_along_axis_1 = np.min(arr, axis=1)\n",
        "max_of_min = np.max(min_along_axis_1)\n",
        "\n",
        "print(max_of_min)"
      ],
      "metadata": {
        "id": "uLeGS9b5Kdf7"
      },
      "execution_count": null,
      "outputs": []
    },
    {
      "cell_type": "code",
      "source": [
        "### PROBLEM 1 - NumPy, Mean, Var, and Std (11)\n",
        "\n",
        "import numpy as np\n",
        "\n",
        "n, m = map(int, input().split())\n",
        "\n",
        "arr = np.array([list(map(int, input().split())) for i in range(n)])\n",
        "\n",
        "print(np.mean(arr, axis=1))\n",
        "print(np.var(arr, axis=0))\n",
        "print(round(np.std(arr), 11))"
      ],
      "metadata": {
        "id": "j9rVXPcvKdBr"
      },
      "execution_count": null,
      "outputs": []
    },
    {
      "cell_type": "code",
      "source": [
        "### PROBLEM 1 - NumPy, Dot and Cross (12)\n",
        "\n",
        "import numpy as np\n",
        "\n",
        "n = int(input())\n",
        "\n",
        "a = np.array([list(map(int, input().split())) for _ in range(n)])\n",
        "\n",
        "b = np.array([list(map(int, input().split())) for _ in range(n)])\n",
        "\n",
        "result = np.dot(a, b)\n",
        "\n",
        "print(result)"
      ],
      "metadata": {
        "id": "0-tjDQBkKcnP"
      },
      "execution_count": null,
      "outputs": []
    },
    {
      "cell_type": "code",
      "source": [
        "### PROBLEM 1 - NumPy, Inner and Outer (13)\n",
        "\n",
        "import numpy as np\n",
        "\n",
        "a = np.array(list(map(int, input().split())))\n",
        "\n",
        "b = np.array(list(map(int, input().split())))\n",
        "\n",
        "inner_product = np.inner(a, b)\n",
        "\n",
        "outer_product = np.outer(a, b)\n",
        "\n",
        "print(inner_product)\n",
        "print(outer_product)"
      ],
      "metadata": {
        "id": "B8Ma0OOsKcQq"
      },
      "execution_count": null,
      "outputs": []
    },
    {
      "cell_type": "code",
      "source": [
        "### PROBLEM 1 - NumPy, Polynomials (14)\n",
        "\n",
        "import numpy as np\n",
        "\n",
        "coefficients = list(map(float, input().split()))\n",
        "\n",
        "x = float(input())\n",
        "\n",
        "result = np.polyval(coefficients, x)\n",
        "\n",
        "print(result)"
      ],
      "metadata": {
        "id": "I8sX8uMKKb4Z"
      },
      "execution_count": null,
      "outputs": []
    },
    {
      "cell_type": "code",
      "source": [
        "### PROBLEM 1 - NumPy, Linear Algebra (15)\n",
        "\n",
        "import numpy as np\n",
        "\n",
        "n = int(input())\n",
        "\n",
        "matrix = [list(map(float, input().split())) for _ in range(n)]\n",
        "\n",
        "matrix_np = np.array(matrix)\n",
        "\n",
        "determinant = np.linalg.det(matrix_np)\n",
        "\n",
        "print(round(determinant, 2))"
      ],
      "metadata": {
        "id": "2dHedmGJKbY6"
      },
      "execution_count": null,
      "outputs": []
    },
    {
      "cell_type": "markdown",
      "source": [
        "# ##### PROBLEM 2"
      ],
      "metadata": {
        "id": "oO7F4z5b8tzK"
      }
    },
    {
      "cell_type": "code",
      "source": [
        "##### PROBLEM 2 - Warmup, Birthday Cake Candles (1)\n",
        "\n",
        "def birthdayCakeCandles(candles):\n",
        "    tallest = max(candles)\n",
        "\n",
        "    return candles.count(tallest)\n",
        "\n",
        "if __name__ == '__main__':\n",
        "    fptr = open(os.environ['OUTPUT_PATH'], 'w')\n",
        "\n",
        "    candles_count = int(input().strip())\n",
        "\n",
        "    candles = list(map(int, input().rstrip().split()))\n",
        "\n",
        "    result = birthdayCakeCandles(candles)\n",
        "\n",
        "    fptr.write(str(result) + '\\n')\n",
        "\n",
        "    fptr.close()"
      ],
      "metadata": {
        "id": "_DOjas3e8-C8"
      },
      "execution_count": null,
      "outputs": []
    },
    {
      "cell_type": "code",
      "source": [
        "##### PROBLEM 2 - Implementation, Number Line Jumps (2)\n",
        "\n",
        "def kangaroo(x1, v1, x2, v2):\n",
        "    if v1 != v2:\n",
        "        if (x2 - x1) % (v1 - v2) == 0 and (x2 - x1) / (v1 - v2) >= 0:\n",
        "            return \"YES\"\n",
        "    elif x1 == x2:\n",
        "        return \"YES\"\n",
        "\n",
        "    return \"NO\"\n",
        "\n",
        "if __name__ == '__main__':\n",
        "    fptr = open(os.environ['OUTPUT_PATH'], 'w')\n",
        "\n",
        "    first_multiple_input = input().rstrip().split()\n",
        "\n",
        "    x1 = int(first_multiple_input[0])\n",
        "    v1 = int(first_multiple_input[1])\n",
        "    x2 = int(first_multiple_input[2])\n",
        "    v2 = int(first_multiple_input[3])\n",
        "\n",
        "    result = kangaroo(x1, v1, x2, v2)\n",
        "\n",
        "    fptr.write(result + '\\n')\n",
        "    fptr.close()"
      ],
      "metadata": {
        "id": "ExzMYqwj9INS"
      },
      "execution_count": null,
      "outputs": []
    },
    {
      "cell_type": "code",
      "source": [
        "##### PROBLEM 2 - Implementation, Viral Advertising (3)\n",
        "\n",
        "def viralAdvertising(n):\n",
        "    shared = 5\n",
        "    cumulative_likes = 0\n",
        "\n",
        "    for day in range(1, n + 1):\n",
        "        liked = shared // 2\n",
        "        cumulative_likes += liked\n",
        "        shared = liked * 3\n",
        "\n",
        "    return cumulative_likes\n",
        "\n",
        "if __name__ == '__main__':\n",
        "    fptr = open(os.environ['OUTPUT_PATH'], 'w')\n",
        "\n",
        "    n = int(input().strip())\n",
        "\n",
        "    result = viralAdvertising(n)\n",
        "\n",
        "    fptr.write(str(result) + '\\n')\n",
        "    fptr.close()"
      ],
      "metadata": {
        "id": "LzvriFxI9LXt"
      },
      "execution_count": null,
      "outputs": []
    },
    {
      "cell_type": "code",
      "source": [
        "##### PROBLEM 2 - Sorting, Insertion Sort-Part 1 (4)\n",
        "\n",
        "def insertionSort1(n, arr):\n",
        "    value_to_insert = arr[-1]\n",
        "\n",
        "    i = n - 2\n",
        "\n",
        "    while i >= 0 and arr[i] > value_to_insert:\n",
        "        arr[i + 1] = arr[i]\n",
        "        print(*arr)\n",
        "        i -= 1\n",
        "\n",
        "    arr[i + 1] = value_to_insert\n",
        "    print(*arr)\n",
        "if __name__ == '__main__':\n",
        "    n = int(input().strip())\n",
        "    arr = list(map(int, input().rstrip().split()))\n",
        "    insertionSort1(n, arr)"
      ],
      "metadata": {
        "id": "yG_YelSm9RI5"
      },
      "execution_count": null,
      "outputs": []
    },
    {
      "cell_type": "code",
      "source": [
        "##### PROBLEM 2 - Sorting, Insertion Sort-Part 2 (5)\n",
        "\n",
        "def insertionSort2(n, arr):\n",
        "    for i in range(1, n):\n",
        "        current_value = arr[i]\n",
        "        j = i - 1\n",
        "        while j >= 0 and arr[j] > current_value:\n",
        "            arr[j + 1] = arr[j]\n",
        "            j -= 1\n",
        "        arr[j + 1] = current_value\n",
        "        print(*arr)\n",
        "\n",
        "if __name__ == '__main__':\n",
        "    n = int(input().strip())\n",
        "    arr = list(map(int, input().rstrip().split()))\n",
        "    insertionSort2(n, arr)"
      ],
      "metadata": {
        "id": "X5bjKvsy9Qt9"
      },
      "execution_count": null,
      "outputs": []
    },
    {
      "cell_type": "code",
      "source": [
        "##### PROBLEM 2 - Recursion, Recursive Digit Sum (6)\n",
        "\n",
        "def superDigit(n, k):\n",
        "    def recursive_super_digit(x):\n",
        "        if len(x) == 1:\n",
        "            return int(x)\n",
        "        digit_sum = sum(int(digit) for digit in x)\n",
        "        return recursive_super_digit(str(digit_sum))\n",
        "\n",
        "    digit_sum_n = sum(int(digit) for digit in n)\n",
        "\n",
        "    total_sum = digit_sum_n * k\n",
        "\n",
        "    return recursive_super_digit(str(total_sum))\n",
        "\n",
        "if __name__ == '__main__':\n",
        "    first_multiple_input = input().rstrip().split()\n",
        "    n = first_multiple_input[0]\n",
        "    k = int(first_multiple_input[1])\n",
        "\n",
        "    result = superDigit(n, k)\n",
        "    print(result)"
      ],
      "metadata": {
        "id": "ds-6L3vQ9QQu"
      },
      "execution_count": null,
      "outputs": []
    }
  ],
  "metadata": {
    "colab": {
      "provenance": [],
      "authorship_tag": "ABX9TyM8RCeOwarJpDy1w/EKNFhq",
      "include_colab_link": true
    },
    "kernelspec": {
      "display_name": "Python 3",
      "name": "python3"
    },
    "language_info": {
      "name": "python"
    }
  },
  "nbformat": 4,
  "nbformat_minor": 0
}